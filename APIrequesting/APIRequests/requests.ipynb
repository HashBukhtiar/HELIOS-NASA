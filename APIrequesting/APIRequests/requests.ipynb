{
 "cells": [
  {
   "cell_type": "code",
   "execution_count": 18,
   "metadata": {},
   "outputs": [],
   "source": [
    "import requests\n",
    "from dotenv import load_dotenv\n",
    "import os\n",
    "import requests as r"
   ]
  },
  {
   "cell_type": "code",
   "execution_count": 19,
   "metadata": {},
   "outputs": [],
   "source": [
    "load_dotenv()\n",
    "api = 'https://appeears.earthdatacloud.nasa.gov/api/'\n",
    "user = os.getenv('NASA_USERNAME')\n",
    "password = os.getenv('NASA_PASSWORD')\n",
    "token_response = r.post(f'{api}login', auth=(user, password)).json()"
   ]
  },
  {
   "cell_type": "code",
   "execution_count": 20,
   "metadata": {},
   "outputs": [
    {
     "name": "stdout",
     "output_type": "stream",
     "text": [
      "{'task_id': 'd5f01bd1-1e38-4622-81e4-6f9b861907f3', 'status': 'pending'}\n"
     ]
    }
   ],
   "source": [
    "# create the task request\n",
    "task = {\n",
    "    'task_type': 'point',\n",
    "    'task_name': 'my-task',\n",
    "    'params': {\n",
    "         'dates': [\n",
    "         {\n",
    "             'startDate': '01-01-2024',\n",
    "             'endDate': '03-01-2024'\n",
    "         }],\n",
    "         'layers': [\n",
    "         {\n",
    "             'product': 'MOD11A1.061',\n",
    "             'layer': 'LST_Day_1km'\n",
    "         }],\n",
    "         'coordinates': [\n",
    "         {\n",
    "             'latitude': 42,\n",
    "             'longitude': -72\n",
    "         }]\n",
    "    }\n",
    "}\n",
    "\n",
    "# submit the task request\n",
    "token = token_response['token']\n",
    "response = requests.post(\n",
    "    'https://appeears.earthdatacloud.nasa.gov/api/task', \n",
    "    json=task, \n",
    "    headers={'Authorization': 'Bearer {0}'.format(token)})\n",
    "task_response = response.json()\n",
    "task_id = task_response['task_id']\n",
    "print(task_response)"
   ]
  },
  {
   "cell_type": "code",
   "execution_count": 21,
   "metadata": {},
   "outputs": [
    {
     "name": "stdout",
     "output_type": "stream",
     "text": [
      "{'tier': 2, 'error': None, 'params': {'dates': [{'endDate': '03-01-2024', 'startDate': '01-01-2024'}], 'layers': [{'layer': 'LST_Day_1km', 'product': 'MOD11A1.061'}], 'coordinates': [{'latitude': 42, 'longitude': -72}]}, 'status': 'queued', 'created': '2024-10-05T18:06:37.790449', 'task_id': 'd5f01bd1-1e38-4622-81e4-6f9b861907f3', 'updated': '2024-10-05T18:06:40.602845', 'user_id': 'rtoameh@gmail.com', 'estimate': {'request_size': 61, 'request_memory': 1}, 'retry_at': None, 'has_swath': False, 'task_name': 'my-task', 'task_type': 'point', 'api_version': 'v1', 'svc_version': '3.63', 'web_version': None, 'has_nsidc_daac': False, 'expires_on': '2024-11-04T18:06:40.602845'}\n"
     ]
    }
   ],
   "source": [
    "response = requests.get(\n",
    "    'https://appeears.earthdatacloud.nasa.gov/api/task/{0}'.format(task_id), \n",
    "    headers={'Authorization': 'Bearer {0}'.format(token)}\n",
    ")\n",
    "task_response = response.json()\n",
    "print(task_response)"
   ]
  }
 ],
 "metadata": {
  "kernelspec": {
   "display_name": "Python 3",
   "language": "python",
   "name": "python3"
  },
  "language_info": {
   "codemirror_mode": {
    "name": "ipython",
    "version": 3
   },
   "file_extension": ".py",
   "mimetype": "text/x-python",
   "name": "python",
   "nbconvert_exporter": "python",
   "pygments_lexer": "ipython3",
   "version": "3.8.10"
  }
 },
 "nbformat": 4,
 "nbformat_minor": 2
}
