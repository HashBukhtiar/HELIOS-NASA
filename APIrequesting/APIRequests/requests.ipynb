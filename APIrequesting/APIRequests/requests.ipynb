{
 "cells": [
  {
   "cell_type": "code",
   "execution_count": 48,
   "metadata": {},
   "outputs": [],
   "source": [
    "import requests\n",
    "from dotenv import load_dotenv\n",
    "import os\n",
    "import requests as r"
   ]
  },
  {
   "cell_type": "code",
   "execution_count": 49,
   "metadata": {},
   "outputs": [],
   "source": [
    "load_dotenv()\n",
    "api = 'https://appeears.earthdatacloud.nasa.gov/api/'\n",
    "user = os.getenv('NASA_USERNAME')\n",
    "password = os.getenv('NASA_PASSWORD')\n",
    "token_response = r.post(f'{api}login', auth=(user, password)).json()"
   ]
  },
  {
   "cell_type": "code",
   "execution_count": 56,
   "metadata": {},
   "outputs": [
    {
     "name": "stdout",
     "output_type": "stream",
     "text": [
      "{'task_id': '4e7ae30c-7950-47be-a731-66c954fc80af', 'status': 'pending'}\n"
     ]
    }
   ],
   "source": [
    "# create the task request\n",
    "task = {\n",
    "    'task_type': 'point',\n",
    "    'task_name': 'my-task',\n",
    "    'params': {\n",
    "         'dates': [\n",
    "         {\n",
    "             'startDate': '01-01-2024',\n",
    "             'endDate': '01-02-2024'\n",
    "         }],\n",
    "         'layers': [\n",
    "         {\n",
    "             'product': 'L09.002',\n",
    "             'layer': 'QA_PIXEL'\n",
    "         }],\n",
    "         'coordinates': [\n",
    "         {\n",
    "             'latitude': 42,\n",
    "             'longitude': -72\n",
    "         }]\n",
    "    }\n",
    "}\n",
    "\n",
    "# submit the task request\n",
    "token = token_response['token']\n",
    "response = requests.post(\n",
    "    'https://appeears.earthdatacloud.nasa.gov/api/task', \n",
    "    json=task, \n",
    "    headers={'Authorization': 'Bearer {0}'.format(token)})\n",
    "task_response = response.json()\n",
    "task_id = task_response['task_id']\n",
    "print(task_response)"
   ]
  },
  {
   "cell_type": "code",
   "execution_count": 57,
   "metadata": {},
   "outputs": [
    {
     "data": {
      "text/plain": [
       "{'tier': 2,\n",
       " 'error': None,\n",
       " 'params': {'dates': [{'endDate': '01-02-2024', 'startDate': '01-01-2024'}],\n",
       "  'layers': [{'layer': 'QA_PIXEL', 'product': 'L09.002'}],\n",
       "  'coordinates': [{'latitude': 42, 'longitude': -72}]},\n",
       " 'status': 'queued',\n",
       " 'created': '2024-10-05T18:19:38.071385',\n",
       " 'task_id': '4e7ae30c-7950-47be-a731-66c954fc80af',\n",
       " 'updated': '2024-10-05T18:19:38.175098',\n",
       " 'user_id': 'rtoameh@gmail.com',\n",
       " 'estimate': {'request_size': 1, 'request_memory': 1},\n",
       " 'retry_at': None,\n",
       " 'has_swath': False,\n",
       " 'task_name': 'my-task',\n",
       " 'task_type': 'point',\n",
       " 'api_version': 'v1',\n",
       " 'svc_version': '3.63',\n",
       " 'web_version': None,\n",
       " 'has_nsidc_daac': False,\n",
       " 'expires_on': '2024-11-04T18:19:38.175098'}"
      ]
     },
     "execution_count": 57,
     "metadata": {},
     "output_type": "execute_result"
    }
   ],
   "source": [
    "response = requests.get(\n",
    "    'https://appeears.earthdatacloud.nasa.gov/api/task/{0}'.format(task_id), \n",
    "    headers={'Authorization': 'Bearer {0}'.format(token)}\n",
    ")\n",
    "task_response = response.json()\n",
    "task_response"
   ]
  }
 ],
 "metadata": {
  "kernelspec": {
   "display_name": "Python 3",
   "language": "python",
   "name": "python3"
  },
  "language_info": {
   "codemirror_mode": {
    "name": "ipython",
    "version": 3
   },
   "file_extension": ".py",
   "mimetype": "text/x-python",
   "name": "python",
   "nbconvert_exporter": "python",
   "pygments_lexer": "ipython3",
   "version": "3.8.10"
  }
 },
 "nbformat": 4,
 "nbformat_minor": 2
}
